{
  "nbformat": 4,
  "nbformat_minor": 0,
  "metadata": {
    "colab": {
      "name": "taller 3 pythorch .ipynb",
      "provenance": [],
      "collapsed_sections": []
    },
    "kernelspec": {
      "name": "python3",
      "display_name": "Python 3"
    },
    "language_info": {
      "name": "python"
    }
  },
  "cells": [
    {
      "cell_type": "code",
      "execution_count": 70,
      "metadata": {
        "id": "oiZiV2xmxjKz"
      },
      "outputs": [],
      "source": [
        "#jesus hurtado red convolucional pythorch\n",
        "import torch\n",
        "import numpy as np\n",
        "import matplotlib.pyplot as plt \n",
        "%matplotlib inline\n",
        "import torch.nn as nn\n",
        "import torch.nn.functional as F\n",
        "from torch.utils.data import Dataset, DataLoader\n",
        "\n",
        "#graficas de costos\n",
        "def get_hist(model,data_set):\n",
        "    activations=model.activation(data_set.x)\n",
        "    for i,activation in enumerate(activations):\n",
        "        plt.hist(activation.numpy(),4,density=True)\n",
        "        plt.title(\"Activation layer \" + str(i+1))\n",
        "        plt.xlabel(\"Activation\")\n",
        "        plt.xlabel(\"Activation\")\n",
        "        plt.legend()\n",
        "        plt.show()\n",
        "#lectura de datos para x y  yhat\n",
        "import math\n",
        "class Data(Dataset):\n",
        "    def __init__(self,N,f):\n",
        "      R_N_f = torch.zeros(N,f)\n",
        "      self.x=torch.linspace(-20, 20, 10000).view(-1,1)\n",
        "      \n",
        "      R_N_1 = torch.zeros((N,f)) \n",
        "          \n",
        "      for i, val in enumerate(self.x):\n",
        "        for m, x1 in enumerate(val):\n",
        "        #print (x, \",\",val2)\n",
        "          s = 16 * x1      \n",
        "          s = math.sin(s)\n",
        "          R_N_1[i] = - ( ( x1 - 2 ) **2  + 3 + 0.2 ) * s \n",
        "\n",
        "      self.y = R_N_1\n",
        "      self.len=self.x.shape[0]\n",
        "\n",
        "    def __getitem__(self,index):    \n",
        "            \n",
        "        return self.x[index],self.y[index]\n",
        "    def __len__(self):\n",
        "        return self.len\n",
        "#configuracion de la red\n",
        "class Net(nn.Module):\n",
        "    def __init__(self,D_in,H,D_out):\n",
        "        super(Net,self).__init__()\n",
        "        self.linear1=nn.Linear(D_in,H)\n",
        "        self.linear2=nn.Linear(H,D_out)\n",
        "\n",
        "        \n",
        "    def forward(self,x):\n",
        "        x=torch.sigmoid(self.linear1(x))  \n",
        "        x=torch.sigmoid(self.linear2(x))\n",
        "        return x\n",
        "\n",
        "#funcion para el aprendizaje        \n",
        "def train(data_set,model,criterion, train_loader, optimizer, epochs=5,plot_number=10):\n",
        "    cost=[]\n",
        "    \n",
        "    for epoch in range(epochs):\n",
        "        total=0\n",
        "        \n",
        "        for x,y in train_loader:\n",
        "            \n",
        "            # batch_size = 100\n",
        "            # x=(100, 1), y=(100,1)\n",
        "\n",
        "            optimizer.zero_grad()\n",
        "            \n",
        "            yhat=model(x)\n",
        "            loss=criterion(yhat,y)\n",
        "            loss.backward()\n",
        "            optimizer.step()\n",
        "            total+=loss.item()\n",
        "            \n",
        "       \n",
        "        \n",
        "        cost.append(total)\n",
        "    plt.figure()\n",
        "    plt.plot(cost)\n",
        "    plt.xlabel('epoch')\n",
        "    plt.ylabel('cost')\n",
        "    plt.show()\n",
        "    return cost\n",
        "    #implementar la instancia de los datos con la formula para y del  punto 2.2\n",
        "data_set=Data(10000,1)\n"
      ]
    },
    {
      "cell_type": "code",
      "source": [
        "#ejecucion y aprendizaje de la red\n",
        "torch.manual_seed(0)\n",
        "model=Net(1,9,1)\n",
        "learning_rate=0.1\n",
        "criterion=nn.BCELoss()\n",
        "optimizer=torch.optim.Adam(model.parameters(), lr=learning_rate)\n",
        "\n",
        "\n",
        "train_loader=DataLoader(dataset=data_set,batch_size=100)\n",
        "\n",
        "\n",
        "COST=train(data_set,model,criterion, train_loader, optimizer, epochs=600,plot_number=200)"
      ],
      "metadata": {
        "id": "HMSV0I-MySYR"
      },
      "execution_count": null,
      "outputs": []
    },
    {
      "cell_type": "code",
      "source": [
        ""
      ],
      "metadata": {
        "id": "KEXhBPnn8h-L"
      },
      "execution_count": null,
      "outputs": []
    }
  ]
}