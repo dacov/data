{
  "nbformat": 4,
  "nbformat_minor": 0,
  "metadata": {
    "colab": {
      "name": "Deeplearning_actividad1.ipynb",
      "provenance": [],
      "collapsed_sections": []
    },
    "kernelspec": {
      "name": "python3",
      "display_name": "Python 3"
    },
    "language_info": {
      "name": "python"
    }
  },
  "cells": [
    {
      "cell_type": "markdown",
      "metadata": {
        "id": "gT8Ehn-NspMg"
      },
      "source": [
        "## Modelo de la red"
      ]
    },
    {
      "cell_type": "code",
      "metadata": {
        "id": "zd3uvVHKZr8Z"
      },
      "source": [
        "import numpy as np"
      ],
      "execution_count": 1,
      "outputs": []
    },
    {
      "cell_type": "code",
      "source": [
        "#Modelo 1 de red neuronal\n",
        "#Implementar SGD para resolver la XOR.\n",
        "#¿Cuántos parámetros desconocidos tiene el modelo?\n",
        "# yhat, los pesos actualizados w +b, los parametros derivados dw, dx,dy,dz\n",
        "#¿Cuáles son los hiper-parámetros del modelo? Explicar que pasa cuando se varía el learning rate.\n",
        "#Learning rate,non_linearities\n",
        "#Learning \n",
        "#Si el valor es muy pequeño la actualización se puede quedar atrapada en un minimo local y los valores de W y b no cambiarian correctamente, igualmente la red neuronal tardara mucho más tiempo en optimizar.\n",
        "\n",
        "#Una vez entrenado el modelo, realizar predicciones para verificar el funcionamiento.\n",
        "\n",
        "#Se implementaron dos modelos un MLP entregado por la especializacion (class MLP(object) ) y se trabajo en otro.# Modelo 2 de red neuronal"
      ],
      "metadata": {
        "id": "OpWYjgteGiFt"
      },
      "execution_count": 2,
      "outputs": []
    },
    {
      "cell_type": "code",
      "metadata": {
        "id": "Rm6B3Yl6WUc4"
      },
      "source": [
        "class MLP(object):\n",
        "  def __init__(self, dims, optimizer_factory, non_linearities, input_dim, rng_seed = None):\n",
        "    \"\"\"\n",
        "    Multilayer Perceptron class. \n",
        "\n",
        "    Params:\n",
        "    ===============\n",
        "    dims (list of int): list of number of neurons for each layer, including the output one.\n",
        "    optimizer_factory (callable): function which returns an Optimizer object upon call.\n",
        "    non_linearities (list of class): list of nonlinearities to be used after each layer, including the output one.\n",
        "    input_dim (int): dimension of an individual input.\n",
        "    rng_seed (int, optional): seed for initialization.\n",
        "\n",
        "    Note: non_linearities and dims must be of same length.\n",
        "    \"\"\"\n",
        "    # check lengths\n",
        "    if len(dims) != len(non_linearities):\n",
        "      raise ValueError(\"dims' and Non_linearities' lengths do not match\")\n",
        "    \n",
        "    # initialize RNG\n",
        "    rng = np.random.default_rng(rng_seed)\n",
        "\n",
        "    # construct a list of Layers with matching dimension and non-linear activation function\n",
        "    in_dims = [input_dim] + dims[:-1]\n",
        "    self.layers = [Layer(n_in, n_out, non_linearity, optimizer_factory, rng) \n",
        "                    for n_in,n_out,non_linearity in zip(in_dims,dims, non_linearities)]\n",
        "\n",
        "\n",
        "  def predict(self, X):\n",
        "    \"\"\"\n",
        "    Produce a prediction for the n samples given in the form of a (input_dim, n) matrix.\n",
        "    Params:\n",
        "    ===============\n",
        "    X (float, shape: input_dim x n): matrix of n samples, each of input_dim dimension.\n",
        "    \"\"\"\n",
        "    # X can be interpreted as the output of a previous layer\n",
        "    prediction = X\n",
        "\n",
        "    # sequentially apply forward pass\n",
        "    for layer in self.layers:\n",
        "      prediction = layer.forward(prediction)\n",
        "\n",
        "    return prediction\n",
        "    \n",
        "  def update(self, cost_gradient):\n",
        "    \"\"\"\n",
        "    Propagate the errors through the layers.\n",
        "    Params:\n",
        "    ===============\n",
        "    cost_gradient (float, shape: dims[-1] x 1)\n",
        "    \"\"\"\n",
        "    \n",
        "    # cost gradient is the cost derivative wrt last layer\n",
        "    dY = cost_gradient\n",
        "\n",
        "    # sequentially apply backwards update, in reversed order\n",
        "    for layer in reversed(self.layers):\n",
        "      dY = layer.backwards(dY)"
      ],
      "execution_count": 3,
      "outputs": []
    },
    {
      "cell_type": "code",
      "metadata": {
        "id": "5qhcculEHuYd"
      },
      "source": [
        "class Layer(object):\n",
        "  def __init__(self, n_in, n_out, non_linearity_class, optimizer_factory, rng):\n",
        "    self.activation = non_linearity_class()\n",
        "    self.optim = optimizer_factory()\n",
        "    self.w = rng.standard_normal(size=(n_out, n_in))  * 0.1 # W shape is (n_out,n_in)\n",
        "    self.b = rng.uniform(size=(n_out, 1))                   # b shape is (n_out, 1)\n",
        "\n",
        "    #print(f\"W= {self.w.shape}\")\n",
        "    #print(f\"b= {self.b.shape}\")\n",
        "    # this may help later :)\n",
        "    self.last_output = None\n",
        "    self.last_input = None\n",
        "\n",
        "  def forward(self, X):\n",
        "    self.last_input = X\n",
        "    \n",
        "    z = self.w @ X + self.b\n",
        "\n",
        "    self.last_output = self.activation.f(z)\n",
        "\n",
        "    return self.last_output\n",
        "\n",
        "  def backwards(self, dY):\n",
        "    \n",
        "    dz = dY * self.activation.df()\n",
        "\n",
        "    dW = dz @ self.last_input.T\n",
        "\n",
        "    db = np.sum(dz, axis=1, keepdims=True)\n",
        "\n",
        "    dX = self.w.T @ dz\n",
        "\n",
        "    self.w, self.b = self.optim.update(self.w, self.b, dW, db)\n",
        "\n",
        "    return dX"
      ],
      "execution_count": 4,
      "outputs": []
    },
    {
      "cell_type": "code",
      "metadata": {
        "id": "_SrMg9szH2UL"
      },
      "source": [
        "class NonLinearity(object):\n",
        "\n",
        "  def __init__(self):\n",
        "    self.last_z = None\n",
        "  \n",
        "  def f(self, z):\n",
        "    raise NotImplementedError(\"function evaluation not implemented\")\n",
        "\n",
        "  def df(self):\n",
        "    raise NotImplementedError(\"function derivative not implemented\")"
      ],
      "execution_count": 5,
      "outputs": []
    },
    {
      "cell_type": "code",
      "metadata": {
        "id": "MNm-ttrVKBJX"
      },
      "source": [
        "class Relu(NonLinearity):\n",
        "\n",
        "  def __init__(self):\n",
        "    super().__init__()\n",
        "\n",
        "  def f(self,z):\n",
        "    self.last_z = z\n",
        "    return np.maximum(z,0)\n",
        "\n",
        "  def df(self):\n",
        "    return (self.last_z >= 0).astype(float)"
      ],
      "execution_count": 6,
      "outputs": []
    },
    {
      "cell_type": "code",
      "source": [
        "class Sigmoid(NonLinearity):\n",
        "\n",
        "  def __init__(self):\n",
        "    super().__init__()\n",
        "\n",
        "  def f(self,z):\n",
        "    self.last_z = z\n",
        "    return np.around(1 / (1 + np.exp(-z)),5)\n",
        "    \n",
        "  def df(self):\n",
        "    return np.round((self.last_z >= 0).astype(float),4)"
      ],
      "metadata": {
        "id": "AxWTkZlB5Y_d"
      },
      "execution_count": 7,
      "outputs": []
    },
    {
      "cell_type": "code",
      "metadata": {
        "id": "2cCantW06ahz"
      },
      "source": [
        "class Identity(NonLinearity):\n",
        "\n",
        "  def __init__(self):\n",
        "    super().__init__()\n",
        "\n",
        "  def f(self,z):\n",
        "    self.last_z = z\n",
        "    return z\n",
        "\n",
        "  def df(self):\n",
        "    return np.ones_like(self.last_z)  "
      ],
      "execution_count": 8,
      "outputs": []
    },
    {
      "cell_type": "code",
      "metadata": {
        "id": "XedPtJmZ18bW"
      },
      "source": [
        "class Optimizer(object):\n",
        "\n",
        "  def update(self, W, b, dW, db):\n",
        "    raise NotImplementedError(\"optimizer update rule not implemented\")"
      ],
      "execution_count": 9,
      "outputs": []
    },
    {
      "cell_type": "code",
      "metadata": {
        "id": "ezSGN9KD2ZMM"
      },
      "source": [
        "class VGD(Optimizer):\n",
        "\n",
        "  def __init__(self, learning_rate):\n",
        "    self.lr = learning_rate\n",
        "\n",
        "  def update(self, W_old, b_old, dW, db):\n",
        "    # vanilla GD: theta_t+1 = theta_t - alpha * gradient\n",
        "    W_new = W_old - self.lr * dW\n",
        "    b_new = b_old - self.lr * db\n",
        "\n",
        "    return W_new, b_new\n",
        "\n",
        "def factory_VGD(lr):\n",
        "  return lambda : VGD(lr)"
      ],
      "execution_count": 10,
      "outputs": []
    },
    {
      "cell_type": "code",
      "metadata": {
        "id": "XzZDCgN43EXO"
      },
      "source": [
        "class Cost(object):\n",
        "\n",
        "  def score(self, Y_true, Y_hat):\n",
        "    raise NotImplementedError(\"cost scoring function not implemented\")\n",
        "\n",
        "  def derivative(self, Y_true, Y_hat):\n",
        "    raise NotImplementedError(\"cost derivative function not implemented\")"
      ],
      "execution_count": 11,
      "outputs": []
    },
    {
      "cell_type": "code",
      "metadata": {
        "id": "T6mvCj-43Rt-"
      },
      "source": [
        "class MSE(Cost):\n",
        "\n",
        "  def score(self, Y_true, Y_hat):\n",
        "    return 0.5 * np.average(np.square(Y_true - Y_hat))\n",
        "\n",
        "  def derivative(self, Y_true, Y_hat):\n",
        "    return (Y_hat - Y_true) / Y_hat.size"
      ],
      "execution_count": 12,
      "outputs": []
    },
    {
      "cell_type": "markdown",
      "metadata": {
        "id": "_SHuKGMUsmuT"
      },
      "source": [
        "## Código para pruebas"
      ]
    },
    {
      "cell_type": "code",
      "metadata": {
        "id": "jskt0TYvsviu"
      },
      "source": [
        "# hiperparámetros\n",
        "\n",
        "lr = 0.001\n",
        "rng_seed = 6543\n",
        "epochs = 1000"
      ],
      "execution_count": 13,
      "outputs": []
    },
    {
      "cell_type": "code",
      "metadata": {
        "colab": {
          "base_uri": "https://localhost:8080/"
        },
        "id": "pLO9a2KGujLG",
        "outputId": "174ba672-908c-445c-df71-fac64b02ed85"
      },
      "source": [
        "# initialization\n",
        "\n",
        "# Model to learn the XOR truth table\n",
        "X = np.array([[0, 0, 1, 1], [0, 1, 0, 1]]) # XOR input\n",
        "Y = np.array([[0, 1, 1, 0]]) # XOR output\n",
        "\n",
        "# Define model parameters\n",
        "neuronsInHiddenLayers = 8 # number of hidden layer neurons (2)\n",
        "inputFeatures = X.shape[0] # number of input features (2)\n",
        "outputFeatures = Y.shape[0] # number of output features (1)\n",
        "\n",
        "epochs = 1000\n",
        "lr = 0.001\n",
        "losses = np.zeros((epochs, 1))\n",
        "\n",
        "\n",
        "loss = MSE()\n",
        "nn = MLP(\n",
        "    dims = [neuronsInHiddenLayers,outputFeatures], \n",
        "    optimizer_factory = factory_VGD(lr), \n",
        "    non_linearities = [Relu, Identity], \n",
        "    input_dim = inputFeatures, \n",
        "    rng_seed = rng_seed\n",
        ")\n",
        "\n",
        "\n",
        "nn"
      ],
      "execution_count": 14,
      "outputs": [
        {
          "output_type": "execute_result",
          "data": {
            "text/plain": [
              "<__main__.MLP at 0x7f5d2b4afe50>"
            ]
          },
          "metadata": {},
          "execution_count": 14
        }
      ]
    },
    {
      "cell_type": "code",
      "source": [
        "import matplotlib.pyplot as plt\n",
        "import seaborn as sns\n",
        "\n",
        "train_costs_historic = np.empty(epochs, dtype=float)\n",
        "test_costs_historic = np.empty(epochs, dtype=float)\n",
        "\n",
        "for i in range(epochs):\n",
        "  # learning on full-batches, but this could be a mini-batch sampling procedure\n",
        "  x = X\n",
        "  y = Y\n",
        "\n",
        "  ## note: as net saves last run, it's important that the run before the update is the train one\n",
        "  ## so... we predict on test first, then train :)\n",
        "  test_cost = loss.score(y,nn.predict(x))\n",
        "\n",
        "  # forward pass\n",
        "  y_hat = nn.predict(x)\n",
        "\n",
        "  # calculate costs\n",
        "  train_cost = loss.score(y, y_hat)\n",
        "  \n",
        "\n",
        "  # save them, inform the train cost every 20 epochs\n",
        "  train_costs_historic[i] = train_cost\n",
        "  test_costs_historic[i] = test_cost\n",
        "\n",
        "  if((i+1) % 20 == 0):\n",
        "    print(f\"Train cost on epoch {i+1} is {train_cost:5.3f}\")\n",
        "  \n",
        "  # backwards pass\n",
        "  gradient = loss.derivative(y, y_hat)\n",
        "  nn.update(gradient)"
      ],
      "metadata": {
        "colab": {
          "base_uri": "https://localhost:8080/"
        },
        "id": "zMyBdwu1sKYH",
        "outputId": "b506f9c7-0911-4381-b62e-7730bc92329f"
      },
      "execution_count": 15,
      "outputs": [
        {
          "output_type": "stream",
          "name": "stdout",
          "text": [
            "Train cost on epoch 20 is 0.166\n",
            "Train cost on epoch 40 is 0.162\n",
            "Train cost on epoch 60 is 0.158\n",
            "Train cost on epoch 80 is 0.155\n",
            "Train cost on epoch 100 is 0.151\n",
            "Train cost on epoch 120 is 0.149\n",
            "Train cost on epoch 140 is 0.146\n",
            "Train cost on epoch 160 is 0.144\n",
            "Train cost on epoch 180 is 0.142\n",
            "Train cost on epoch 200 is 0.140\n",
            "Train cost on epoch 220 is 0.139\n",
            "Train cost on epoch 240 is 0.137\n",
            "Train cost on epoch 260 is 0.136\n",
            "Train cost on epoch 280 is 0.135\n",
            "Train cost on epoch 300 is 0.134\n",
            "Train cost on epoch 320 is 0.133\n",
            "Train cost on epoch 340 is 0.132\n",
            "Train cost on epoch 360 is 0.131\n",
            "Train cost on epoch 380 is 0.131\n",
            "Train cost on epoch 400 is 0.130\n",
            "Train cost on epoch 420 is 0.130\n",
            "Train cost on epoch 440 is 0.129\n",
            "Train cost on epoch 460 is 0.129\n",
            "Train cost on epoch 480 is 0.128\n",
            "Train cost on epoch 500 is 0.128\n",
            "Train cost on epoch 520 is 0.128\n",
            "Train cost on epoch 540 is 0.127\n",
            "Train cost on epoch 560 is 0.127\n",
            "Train cost on epoch 580 is 0.127\n",
            "Train cost on epoch 600 is 0.127\n",
            "Train cost on epoch 620 is 0.127\n",
            "Train cost on epoch 640 is 0.126\n",
            "Train cost on epoch 660 is 0.126\n",
            "Train cost on epoch 680 is 0.126\n",
            "Train cost on epoch 700 is 0.126\n",
            "Train cost on epoch 720 is 0.126\n",
            "Train cost on epoch 740 is 0.126\n",
            "Train cost on epoch 760 is 0.126\n",
            "Train cost on epoch 780 is 0.126\n",
            "Train cost on epoch 800 is 0.126\n",
            "Train cost on epoch 820 is 0.126\n",
            "Train cost on epoch 840 is 0.125\n",
            "Train cost on epoch 860 is 0.125\n",
            "Train cost on epoch 880 is 0.125\n",
            "Train cost on epoch 900 is 0.125\n",
            "Train cost on epoch 920 is 0.125\n",
            "Train cost on epoch 940 is 0.125\n",
            "Train cost on epoch 960 is 0.125\n",
            "Train cost on epoch 980 is 0.125\n",
            "Train cost on epoch 1000 is 0.125\n"
          ]
        }
      ]
    },
    {
      "cell_type": "code",
      "source": [
        "plt.figure(figsize=(12,8))\n",
        "plt.plot(train_costs_historic, color='blue', label='train')\n",
        "plt.plot(test_costs_historic, color='red', label='test')\n",
        "plt.grid(True)\n",
        "plt.legend()\n",
        "plt.show()\n"
      ],
      "metadata": {
        "colab": {
          "base_uri": "https://localhost:8080/",
          "height": 483
        },
        "id": "Wl4LVs7lsKf2",
        "outputId": "89281197-b81d-4199-cdc0-6c2776c16af6"
      },
      "execution_count": 16,
      "outputs": [
        {
          "output_type": "display_data",
          "data": {
            "text/plain": [
              "<Figure size 864x576 with 1 Axes>"
            ],
            "image/png": "[encoded data removed]"
          },
          "metadata": {
            "needs_background": "light"
          }
        }
      ]
    },
    {
      "cell_type": "code",
      "metadata": {
        "colab": {
          "base_uri": "https://localhost:8080/"
        },
        "id": "ivbvwkLNzmfi",
        "outputId": "71bc521e-1f9e-4828-94b6-6c36d4397bba"
      },
      "source": [
        "# test predict shape\n",
        "x = np.array([[1, 1, 0, 0], [0, 1, 0, 1]]) # XOR input\n",
        "prediction = nn.predict(x)\n",
        "print(f\"Shape of prediction is {prediction.shape}\")\n",
        "print(f\"Shape of prediction is {prediction}\")\n",
        "\n",
        "# test MSE cost\n",
        "print(f\"Avg cost on untrained prediction is {loss.score(y,prediction)}\")\n",
        "\n",
        "gradient = loss.derivative(y,prediction)\n",
        "print(f\"Gradient shape is {gradient.shape} with average {np.average(gradient)}\")"
      ],
      "execution_count": 17,
      "outputs": [
        {
          "output_type": "stream",
          "name": "stdout",
          "text": [
            "Shape of prediction is (1, 4)\n",
            "Shape of prediction is [[0.5083332  0.52807609 0.51009834 0.52984123]]\n",
            "Avg cost on untrained prediction is 0.12523127309578547\n",
            "Gradient shape is (1, 4) with average 0.004771804293470003\n"
          ]
        }
      ]
    },
    {
      "cell_type": "code",
      "metadata": {
        "colab": {
          "base_uri": "https://localhost:8080/",
          "height": 483
        },
        "id": "osQbAVglNRXS",
        "outputId": "6d74e056-b9a7-4948-c131-19506a7e8613"
      },
      "source": [
        "# first values are off scale, omit first 10\n",
        "omit_idx = 10\n",
        "idxs = range(omit_idx, len(train_costs_historic))\n",
        "plt.figure(figsize=(12,8))\n",
        "plt.plot(idxs, train_costs_historic[omit_idx:], color='blue', label='train')\n",
        "plt.plot(idxs, test_costs_historic[omit_idx:], color='red', label='test')\n",
        "plt.grid(True)\n",
        "plt.legend()\n",
        "plt.show()"
      ],
      "execution_count": 18,
      "outputs": [
        {
          "output_type": "display_data",
          "data": {
            "text/plain": [
              "<Figure size 864x576 with 1 Axes>"
            ],
            "image/png": "[encoded data removed]"
          },
          "metadata": {
            "needs_background": "light"
          }
        }
      ]
    },
    {
      "cell_type": "code",
      "source": [
        "# Modelo 2 de red neuronal\n",
        "# import Python Libraries m\n",
        "import numpy as np\n",
        "from matplotlib import pyplot as plt\n",
        "\n",
        "# Sigmoid Function\n",
        "def sigmoid(z):\n",
        "\treturn 1 / (1 + np.exp(-z))\n",
        "\n",
        "# Initialization of the neural network parameters\n",
        "# Initialized all the weights in the range of between 0 and 1\n",
        "# Bias values are initialized to 0\n",
        "def initializeParameters(inputFeatures, neuronsInHiddenLayers, outputFeatures):\n",
        "\tW1 = np.random.randn(neuronsInHiddenLayers, inputFeatures)\n",
        "\tW2 = np.random.randn(outputFeatures, neuronsInHiddenLayers)\n",
        "\tb1 = np.zeros((neuronsInHiddenLayers, 1))\n",
        "\tb2 = np.zeros((outputFeatures, 1))\n",
        "\t\n",
        "\tparameters = {\"W1\" : W1, \"b1\": b1,\n",
        "\t\t\t\t\"W2\" : W2, \"b2\": b2}\n",
        "\treturn parameters\n",
        "\n",
        "# Forward Propagation\n",
        "def forwardPropagation(X, Y, parameters):\n",
        "\tm = X.shape[1]\n",
        "\tW1 = parameters[\"W1\"]\n",
        "\tW2 = parameters[\"W2\"]\n",
        "\tb1 = parameters[\"b1\"]\n",
        "\tb2 = parameters[\"b2\"]\n",
        "\n",
        "\tZ1 = np.dot(W1, X) + b1\n",
        "\tA1 = sigmoid(Z1)\n",
        "\tZ2 = np.dot(W2, A1) + b2\n",
        "\tA2 = sigmoid(Z2)\n",
        "\n",
        "\tcache = (Z1, A1, W1, b1, Z2, A2, W2, b2)\n",
        "\tlogprobs = np.multiply(np.log(A2), Y) + np.multiply(np.log(1 - A2), (1 - Y))\n",
        "\tcost = -np.sum(logprobs) / m\n",
        "\treturn cost, cache, A2\n",
        "\n",
        "# Backward Propagation\n",
        "def backwardPropagation(X, Y, cache):\n",
        "\tm = X.shape[1]\n",
        "\t(Z1, A1, W1, b1, Z2, A2, W2, b2) = cache\n",
        "\t\n",
        "\tdZ2 = A2 - Y\n",
        "\tdW2 = np.dot(dZ2, A1.T) / m\n",
        "\tdb2 = np.sum(dZ2, axis = 1, keepdims = True)\n",
        "\t\n",
        "\tdA1 = np.dot(W2.T, dZ2)\n",
        "\tdZ1 = np.multiply(dA1, A1 * (1- A1))\n",
        "\tdW1 = np.dot(dZ1, X.T) / m\n",
        "\tdb1 = np.sum(dZ1, axis = 1, keepdims = True) / m\n",
        "\t\n",
        "\tgradients = {\"dZ2\": dZ2, \"dW2\": dW2, \"db2\": db2,\n",
        "\t\t\t\t\"dZ1\": dZ1, \"dW1\": dW1, \"db1\": db1}\n",
        "\treturn gradients\n",
        "\n",
        "# Updating the weights based on the negative gradients\n",
        "def updateParameters(parameters, gradients, learningRate):\n",
        "\tparameters[\"W1\"] = parameters[\"W1\"] - learningRate * gradients[\"dW1\"]\n",
        "\tparameters[\"W2\"] = parameters[\"W2\"] - learningRate * gradients[\"dW2\"]\n",
        "\tparameters[\"b1\"] = parameters[\"b1\"] - learningRate * gradients[\"db1\"]\n",
        "\tparameters[\"b2\"] = parameters[\"b2\"] - learningRate * gradients[\"db2\"]\n",
        "\treturn parameters\n",
        "\n",
        "# Model to learn the XOR truth table\n",
        "X = np.array([[0, 0, 1, 1], [0, 1, 0, 1]]) # XOR input\n",
        "Y = np.array([[0, 1, 1, 0]]) # XOR output\n",
        "\n",
        "# Define model parameters\n",
        "neuronsInHiddenLayers = 2 # number of hidden layer neurons (2)\n",
        "inputFeatures = X.shape[0] # number of input features (2)\n",
        "outputFeatures = Y.shape[0] # number of output features (1)\n",
        "parameters = initializeParameters(inputFeatures, neuronsInHiddenLayers, outputFeatures)\n",
        "epoch = 100000\n",
        "learningRate = 0.01\n",
        "losses = np.zeros((epoch, 1))\n",
        "\n",
        "for i in range(epoch):\n",
        "\tlosses[i, 0], cache, A2 = forwardPropagation(X, Y, parameters)\n",
        "\tgradients = backwardPropagation(X, Y, cache)\n",
        "\tparameters = updateParameters(parameters, gradients, learningRate)\n",
        "\n",
        "# Evaluating the performance\n",
        "plt.figure()\n",
        "plt.plot(losses)\n",
        "plt.xlabel(\"EPOCHS\")\n",
        "plt.ylabel(\"Loss value\")\n",
        "plt.show()\n",
        "\n",
        "# Testing\n",
        "X = np.array([[1, 1, 0, 0], [0, 1, 0, 1]]) # XOR input\n",
        "cost, _, A2 = forwardPropagation(X, Y, parameters)\n",
        "prediction = (A2 > 0.5) * 1.0\n",
        "print(A2)\n",
        "print(prediction)\n"
      ],
      "metadata": {
        "id": "UW8C5VxHGZqW",
        "colab": {
          "base_uri": "https://localhost:8080/",
          "height": 315
        },
        "outputId": "57f0f648-bd31-4af2-9202-b4142c4b0935"
      },
      "execution_count": 19,
      "outputs": [
        {
          "output_type": "display_data",
          "data": {
            "text/plain": [
              "<Figure size 432x288 with 1 Axes>"
            ],
            "image/png": "[encoded data removed]"
          },
          "metadata": {
            "needs_background": "light"
          }
        },
        {
          "output_type": "stream",
          "name": "stdout",
          "text": [
            "[[0.98229285 0.01889404 0.01488829 0.9822564 ]]\n",
            "[[1. 0. 0. 1.]]\n"
          ]
        }
      ]
    }
  ]
}